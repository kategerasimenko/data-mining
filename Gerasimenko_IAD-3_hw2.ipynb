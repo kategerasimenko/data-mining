{
 "cells": [
  {
   "cell_type": "markdown",
   "metadata": {},
   "source": [
    "# Домашнее задание 2"
   ]
  },
  {
   "cell_type": "code",
   "execution_count": 1,
   "metadata": {
    "collapsed": false
   },
   "outputs": [],
   "source": [
    "import pandas as pd\n",
    "import numpy as np\n",
    "from sklearn.preprocessing import LabelEncoder\n",
    "from sklearn.feature_selection import SelectKBest, f_regression\n",
    "from sklearn.linear_model import RidgeCV, SGDRegressor\n",
    "from sklearn.model_selection import train_test_split, StratifiedKFold, GridSearchCV\n",
    "from sklearn.metrics import mean_absolute_error, mean_squared_error,median_absolute_error, r2_score, accuracy_score\n",
    "from sklearn.ensemble import RandomForestClassifier, GradientBoostingClassifier, AdaBoostClassifier\n",
    "from sklearn.ensemble import GradientBoostingRegressor, RandomForestRegressor\n",
    "from sklearn.neighbors import KNeighborsRegressor\n",
    "from sklearn.neural_network import MLPRegressor\n",
    "from sklearn.svm import SVR\n",
    "import matplotlib.pyplot as plt\n",
    "%matplotlib inline\n",
    "import warnings\n",
    "warnings.filterwarnings('ignore')"
   ]
  },
  {
   "cell_type": "code",
   "execution_count": 2,
   "metadata": {
    "collapsed": true
   },
   "outputs": [],
   "source": [
    "RANDOM_SEED = 0"
   ]
  },
  {
   "cell_type": "markdown",
   "metadata": {},
   "source": [
    "**Срок сдачи:** 25 октября 2016, 23:59 <br\\>\n",
    "\n",
    "При отправлении ДЗ на почту указывайте **фамилию** в названии файла, и тему письма оформляйте в следующем формате: <br\\>\n",
    "** [Maйнор 2016] ДЗ2 **<br\\>"
   ]
  },
  {
   "cell_type": "markdown",
   "metadata": {},
   "source": [
    "Прочтите статью [\"USING\tDATA\tMINING\tTO\tPREDICT\tSECONDARY SCHOOL\tSTUDENT\tALCOHOL\tCONSUMPTION\"](https://www.dropbox.com/s/054unjn4bfo0khj/STUDENT%20ALCOHOL%20CONSUMPTION.pdf?dl=0), загрузите [датасет](https://archive.ics.uci.edu/ml/datasets/STUDENT+ALCOHOL+CONSUMPTION#) и выполните следующие задания:"
   ]
  },
  {
   "cell_type": "code",
   "execution_count": 8,
   "metadata": {
    "collapsed": false
   },
   "outputs": [
    {
     "data": {
      "text/html": [
       "<div>\n",
       "<table border=\"1\" class=\"dataframe\">\n",
       "  <thead>\n",
       "    <tr style=\"text-align: right;\">\n",
       "      <th></th>\n",
       "      <th>school</th>\n",
       "      <th>sex</th>\n",
       "      <th>age</th>\n",
       "      <th>address</th>\n",
       "      <th>famsize</th>\n",
       "      <th>Pstatus</th>\n",
       "      <th>Medu</th>\n",
       "      <th>Fedu</th>\n",
       "      <th>Mjob</th>\n",
       "      <th>Fjob</th>\n",
       "      <th>...</th>\n",
       "      <th>freetime</th>\n",
       "      <th>goout</th>\n",
       "      <th>Dalc</th>\n",
       "      <th>Walc</th>\n",
       "      <th>health</th>\n",
       "      <th>absences</th>\n",
       "      <th>G1</th>\n",
       "      <th>G2</th>\n",
       "      <th>G3</th>\n",
       "      <th>Subject</th>\n",
       "    </tr>\n",
       "  </thead>\n",
       "  <tbody>\n",
       "    <tr>\n",
       "      <th>0</th>\n",
       "      <td>MS</td>\n",
       "      <td>M</td>\n",
       "      <td>18</td>\n",
       "      <td>R</td>\n",
       "      <td>GT3</td>\n",
       "      <td>T</td>\n",
       "      <td>1</td>\n",
       "      <td>0</td>\n",
       "      <td>at_home</td>\n",
       "      <td>at_home</td>\n",
       "      <td>...</td>\n",
       "      <td>3</td>\n",
       "      <td>2</td>\n",
       "      <td>1</td>\n",
       "      <td>1</td>\n",
       "      <td>4</td>\n",
       "      <td>0</td>\n",
       "      <td>12</td>\n",
       "      <td>12</td>\n",
       "      <td>13</td>\n",
       "      <td>0</td>\n",
       "    </tr>\n",
       "    <tr>\n",
       "      <th>1</th>\n",
       "      <td>GP</td>\n",
       "      <td>M</td>\n",
       "      <td>17</td>\n",
       "      <td>R</td>\n",
       "      <td>GT3</td>\n",
       "      <td>T</td>\n",
       "      <td>2</td>\n",
       "      <td>2</td>\n",
       "      <td>other</td>\n",
       "      <td>other</td>\n",
       "      <td>...</td>\n",
       "      <td>5</td>\n",
       "      <td>2</td>\n",
       "      <td>1</td>\n",
       "      <td>1</td>\n",
       "      <td>1</td>\n",
       "      <td>0</td>\n",
       "      <td>12</td>\n",
       "      <td>13</td>\n",
       "      <td>13</td>\n",
       "      <td>0</td>\n",
       "    </tr>\n",
       "    <tr>\n",
       "      <th>2</th>\n",
       "      <td>GP</td>\n",
       "      <td>F</td>\n",
       "      <td>15</td>\n",
       "      <td>U</td>\n",
       "      <td>GT3</td>\n",
       "      <td>T</td>\n",
       "      <td>3</td>\n",
       "      <td>2</td>\n",
       "      <td>services</td>\n",
       "      <td>other</td>\n",
       "      <td>...</td>\n",
       "      <td>3</td>\n",
       "      <td>5</td>\n",
       "      <td>1</td>\n",
       "      <td>1</td>\n",
       "      <td>2</td>\n",
       "      <td>26</td>\n",
       "      <td>7</td>\n",
       "      <td>6</td>\n",
       "      <td>6</td>\n",
       "      <td>1</td>\n",
       "    </tr>\n",
       "    <tr>\n",
       "      <th>3</th>\n",
       "      <td>GP</td>\n",
       "      <td>M</td>\n",
       "      <td>15</td>\n",
       "      <td>U</td>\n",
       "      <td>GT3</td>\n",
       "      <td>T</td>\n",
       "      <td>3</td>\n",
       "      <td>4</td>\n",
       "      <td>other</td>\n",
       "      <td>other</td>\n",
       "      <td>...</td>\n",
       "      <td>5</td>\n",
       "      <td>1</td>\n",
       "      <td>1</td>\n",
       "      <td>1</td>\n",
       "      <td>5</td>\n",
       "      <td>0</td>\n",
       "      <td>12</td>\n",
       "      <td>12</td>\n",
       "      <td>13</td>\n",
       "      <td>0</td>\n",
       "    </tr>\n",
       "    <tr>\n",
       "      <th>4</th>\n",
       "      <td>GP</td>\n",
       "      <td>M</td>\n",
       "      <td>15</td>\n",
       "      <td>U</td>\n",
       "      <td>LE3</td>\n",
       "      <td>T</td>\n",
       "      <td>1</td>\n",
       "      <td>2</td>\n",
       "      <td>other</td>\n",
       "      <td>at_home</td>\n",
       "      <td>...</td>\n",
       "      <td>3</td>\n",
       "      <td>2</td>\n",
       "      <td>1</td>\n",
       "      <td>1</td>\n",
       "      <td>5</td>\n",
       "      <td>0</td>\n",
       "      <td>14</td>\n",
       "      <td>13</td>\n",
       "      <td>14</td>\n",
       "      <td>0</td>\n",
       "    </tr>\n",
       "  </tbody>\n",
       "</table>\n",
       "<p>5 rows × 34 columns</p>\n",
       "</div>"
      ],
      "text/plain": [
       "  school sex  age address famsize Pstatus  Medu  Fedu      Mjob     Fjob  \\\n",
       "0     MS   M   18       R     GT3       T     1     0   at_home  at_home   \n",
       "1     GP   M   17       R     GT3       T     2     2     other    other   \n",
       "2     GP   F   15       U     GT3       T     3     2  services    other   \n",
       "3     GP   M   15       U     GT3       T     3     4     other    other   \n",
       "4     GP   M   15       U     LE3       T     1     2     other  at_home   \n",
       "\n",
       "    ...   freetime goout  Dalc  Walc  health absences  G1  G2  G3 Subject  \n",
       "0   ...          3     2     1     1       4        0  12  12  13       0  \n",
       "1   ...          5     2     1     1       1        0  12  13  13       0  \n",
       "2   ...          3     5     1     1       2       26   7   6   6       1  \n",
       "3   ...          5     1     1     1       5        0  12  12  13       0  \n",
       "4   ...          3     2     1     1       5        0  14  13  14       0  \n",
       "\n",
       "[5 rows x 34 columns]"
      ]
     },
     "execution_count": 8,
     "metadata": {},
     "output_type": "execute_result"
    }
   ],
   "source": [
    "#делаем один датасет из двух\n",
    "#некоторые студенты встречаются два раза, но в свете разных предметов\n",
    "studm = pd.read_csv('student-mat.csv',sep=';')\n",
    "studp = pd.read_csv('student-por.csv',sep=';')\n",
    "\n",
    "#сделаем признак предмета, чтобы не утратить информацию о двух разных таблицах\n",
    "studm['Subject'] = 1\n",
    "studp['Subject'] = 0\n",
    "\n",
    "#делаем одну таблицу с общим индексом\n",
    "studdf = pd.concat([studm,studp],ignore_index=True)\n",
    "studdf = studdf.sample(frac=1).reset_index(drop=True)\n",
    "studdf.head()"
   ]
  },
  {
   "cell_type": "markdown",
   "metadata": {},
   "source": [
    "# Работа с данными (4 балла)\n",
    "- Приведите описание признаков датасета на русском языке с указанием типа данных (1 балла)\n",
    "- Предобработка данных (3)\n",
    "    - Проверьте наличие пропусков. В случае наличия пропусков заполните их медианными значениями (1)\n",
    "    - Подсчитайте количество записей, у которых признак Medu имеет значение \"4\" (1)\n",
    "    - Преобразуйте все номинальные признаки в несколько признаков с бинарным значение (1)"
   ]
  },
  {
   "cell_type": "markdown",
   "metadata": {},
   "source": [
    "#### Приведите описание признаков датасета на русском языке с указанием типа данных\n",
    "- 1 school - школа учащегося (бинарный: 'GP' - Gabriel Pereira или 'MS' - Mousinho da Silveira) \n",
    "- 2 sex - пол учащегося (бинарный: 'F' - женский или 'M' - мужской) \n",
    "- 3 age - возраст учащегося (вещественный: от 15 до 22) \n",
    "- 4 address - тип домашнего адреса учащегося (бинарный: 'U' - городской или 'R' - загородный) \n",
    "- 5 famsize - размер семьи (бинарный: 'LE3' - меньше или равный 3 или 'GT3' - больше чем 3) \n",
    "- 6 Pstatus - статус сожительства родителей (бинарный: 'T' - живут вместе или 'A' - раздельно) \n",
    "- 7 Medu - образование матери (вещественный: 0 - нет, 1 - начальное образование (4ый класс), 2 - от 5го до 9го класса, 3 - среднее образование или 4 - высшее образование) \n",
    "- 8 Fedu - образование отца (вещественный: 0 - нет, 1 - начальное образование (4ый класс), 2 - от 5го до 9го класса, 3 - среднее образование или 4 - высшее образование) \n",
    "- 9 Mjob - работа матери (категориальный: учитель - 'teacher', относится к здравоохранению - 'health', государственная служба (e.g. чиновник или в полиции) - 'services', домохозяйка - 'at_home' или другое - 'other') \n",
    "- 10 Fjob - работа отца (категориальный: учитель - 'teacher', относится к здравоохранению - 'health', государственная служба (e.g. чиновник или в полиции) - 'services', домохозяйка - 'at_home' или другое - 'other') \n",
    "- 11 reason - причина выбора школы (категориальный: близко к дому - 'home', репутация школы - 'reputation', предпочтение предметов - 'course' или другое - 'other') \n",
    "- 12 guardian - опекун учащегося (категориальный: мать - 'mother', отец - 'father' или другое - 'other') \n",
    "- 13 traveltime - время дороги от дома до школы (вещественный: 1 - <15 мин., 2 - от 15 до 30 мин., 3 - от 30 мин. до 1 часа, или 4 - >1 часа) \n",
    "- 14 studytime - количество времени на учебу в неделю (вещественный: 1 - <2 часов, 2 - от 2 до 5 часов, 3 - от 5 до 10 часов, или 4 - >10 часов) \n",
    "- 15 failures - количество незачетов в прошлом (вещественный: n, если 1<=n<3, в ином случае 4) \n",
    "- 16 schoolsup - дополнительная образовательная поддержка в школе (бинарный: yes или no) \n",
    "- 17 famsup - дополнительная образовательная поддержка в семье (бинарный: yes или no)  \n",
    "- 18 paid - дополнительные платные уроки по предмету (математика или португальский) (бинарный: yes или no)  \n",
    "- 19 activities - внеклассные занятия (бинарный: yes или no) \n",
    "- 20 nursery - посещал ли детский сад (бинарный: yes или no)  \n",
    "- 21 higher - хочет ли получить высшее образование (бинарный: yes или no) \n",
    "- 22 internet - доступ к интернету дома (бинарный: yes или no)  \n",
    "- 23 romantic - есть ли романтические отношения (бинарный: yes или no)  \n",
    "- 24 famrel - качество отношений в семье (вещественный: от 1 - очень плохие до 5 - отличные) \n",
    "- 25 freetime - свободное время после школы (вещественный: от 1 - очень мало до 5 - очень много) \n",
    "- 26 goout - сколько времени проводит с друзьями (вещественный: от 1 - очень мало до 5 - очень много)  \n",
    "- 27 Dalc - потребление алкоголя в будни (вещественный: от 1 - очень мало до 5 - очень много) \n",
    "- 28 Walc - потребление алкоголя на выходных (вещественный: от 1 - очень мало до 5 - очень много)  \n",
    "- 29 health - состояние здоровья (вещественный: от 1 - очень плохое до 5 - очень хорошее) \n",
    "- 30 absences - количество пропусков занятий (вещественный: от 0 до 93) \n",
    "<br><br>\n",
    "оценки, относящиеся к предмету - математике или португальскому: \n",
    "- 31 G1 - оценка за первую четверть (вещественный: от 0 до 20) \n",
    "- 32 G2 - оценка за вторую четверть (вещественный: от 0 до 20) \n",
    "- 33 G3 - итоговая оценка (вещественный: от 0 до 20, цель предсказания) "
   ]
  },
  {
   "cell_type": "markdown",
   "metadata": {},
   "source": [
    "#### Проверьте наличие пропусков. В случае наличия пропусков заполните их медианными значениями"
   ]
  },
  {
   "cell_type": "code",
   "execution_count": 9,
   "metadata": {
    "collapsed": false
   },
   "outputs": [
    {
     "name": "stdout",
     "output_type": "stream",
     "text": [
      "0\n"
     ]
    }
   ],
   "source": [
    "nas = np.sum(np.sum(pd.isnull(studdf)))\n",
    "print(nas)\n",
    "#сумма, отличная от нуля, указывает на наличие пропусков (isnull дает True == 1 на пропуске)\n",
    "#но тут сумма равна нулю, ура"
   ]
  },
  {
   "cell_type": "markdown",
   "metadata": {},
   "source": [
    "#### Подсчитайте количество записей, у которых признак Medu имеет значение \"4\" "
   ]
  },
  {
   "cell_type": "code",
   "execution_count": 10,
   "metadata": {
    "collapsed": false
   },
   "outputs": [
    {
     "data": {
      "text/plain": [
       "306"
      ]
     },
     "execution_count": 10,
     "metadata": {},
     "output_type": "execute_result"
    }
   ],
   "source": [
    "len(studdf[studdf['Medu'] == 4])"
   ]
  },
  {
   "cell_type": "markdown",
   "metadata": {},
   "source": [
    "#### Преобразуйте все номинальные признаки в несколько признаков с бинарным значением"
   ]
  },
  {
   "cell_type": "code",
   "execution_count": 5,
   "metadata": {
    "collapsed": false
   },
   "outputs": [],
   "source": [
    "stud = studdf.iloc[:,:]\n",
    "\n",
    "# для LabelEncoder - бинарные значения, потому что они в виде строк, а лучше бы числа\n",
    "toencode = [0,1] + [3,4,5] + list(range(15,23))\n",
    "lenc = LabelEncoder()\n",
    "for i in toencode:\n",
    "    stud.iloc[:,i] = lenc.fit_transform(stud.iloc[:,i])\n",
    "\n",
    "# OneHotEncoding для категориальных\n",
    "for i in list(range(8,12)):\n",
    "    colname = list(studdf)[i]\n",
    "    oh = pd.get_dummies(studdf.iloc[:,i],prefix=colname)\n",
    "    stud = stud.drop(colname, axis=1)\n",
    "    stud = pd.concat([stud,oh],axis=1)"
   ]
  },
  {
   "cell_type": "markdown",
   "metadata": {},
   "source": [
    "## Классификация (6 баллов)\n",
    "\n",
    "### Предписания\n",
    "- Используйте accuracy как основную меру качества\n",
    "- Классы в задаче несбалансированные. Для корректной кросс-валидации используйте стратифицированный способ разбиения на фолды [Stratified K-fold](http://scikit-learn.org/stable/modules/generated/sklearn.model_selection.StratifiedKFold.html#sklearn.model_selection.StratifiedKFold)"
   ]
  },
  {
   "cell_type": "markdown",
   "metadata": {},
   "source": [
    "### Задание\n",
    "1. Задайте RANDOM_SEED и случайным образом разделите выборку на обучающую и контрольную в пропорции 80/20. Этот же RANDOM_SEED используйте при кросс-валидации (0.5 балла)\n",
    "2. Random Forest (2 балла)\n",
    "    - В статье описано использование Random Forest для предсказания важности фактором вляющих на потребление алкоголя.\n",
    "    - Повторите эксперимент с использованием [RandomForest](http://scikit-learn.org/stable/modules/generated/sklearn.ensemble.RandomForestClassifier.html#sklearn.ensemble.RandomForestClassifier) и найдите наилучшие параметры с помощью кросс-валидации. (1 балл)\n",
    "    - Изобразите аналогичную таблицу важности признаков для наилучшей настройки метода (значения могут отличаться). (0.5 балла)\n",
    "    - Укажите значение accuracy для пяти наилучших настроек метода на контрольной выборке. (0.5 балла)\n",
    "\n",
    "3. GradientBoosting (2 балла)\n",
    "    - Обучите [GradientBoostingClassifier](http://scikit-learn.org/stable/modules/generated/sklearn.ensemble.GradientBoostingClassifier.html#sklearn.ensemble.GradientBoostingClassifier)  и найдите для него наилучшие параметры с помощью кросс-валидации. (0.5 балла)\n",
    "    - Изобразите таблицу важности признаков для наилучшей настройки метода. Отличается ли она от таблицы метода RandomForest. Почему? (1 балл)\n",
    "    - Укажите значение accuracy для пяти наилучших настроек метода. (0.5 балла)\n",
    "\n",
    "4. AdaBoost (1 балл)\n",
    "    - Обучите [AdaBoostClassifier](http://scikit-learn.org/stable/modules/generated/sklearn.ensemble.AdaBoostClassifier.html) и найдите для него наилучшие параметры с помощью кросс-валидации. (0.5 балла)\n",
    "    - Укажите значение accuracy для наилучших настроек метода. (0.5 балла)\n",
    "\n",
    "5. Какой из классификаторов оказался лучше? (0.5 балла)"
   ]
  },
  {
   "cell_type": "code",
   "execution_count": 12,
   "metadata": {
    "collapsed": false
   },
   "outputs": [],
   "source": [
    "# делаем бинарные ответы из изначальных данных - в соответствии со статьей\n",
    "y = (studdf.Dalc*5 + studdf.Walc*2) / 7\n",
    "y = y.apply(lambda x: 0 if x < 3 else 1)\n",
    "\n",
    "# удаляем из признаков те, из которых мы сделали ответ\n",
    "studnew = stud.drop(['Walc','Dalc'],axis=1)"
   ]
  },
  {
   "cell_type": "markdown",
   "metadata": {},
   "source": [
    "#### Задайте RANDOM_SEED и случайным образом разделите выборку на обучающую и контрольную в пропорции 80/20. Этот же RANDOM_SEED используйте при кросс-валидации"
   ]
  },
  {
   "cell_type": "code",
   "execution_count": 19,
   "metadata": {
    "collapsed": false
   },
   "outputs": [],
   "source": [
    "X_train, X_test, y_train, y_test = train_test_split(studnew, y, random_state=RANDOM_SEED, test_size=0.2, stratify=y)"
   ]
  },
  {
   "cell_type": "markdown",
   "metadata": {},
   "source": [
    "#### Повторите эксперимент с использованием RandomForest и найдите наилучшие параметры с помощью кросс-валидации."
   ]
  },
  {
   "cell_type": "code",
   "execution_count": 62,
   "metadata": {
    "collapsed": false
   },
   "outputs": [],
   "source": [
    "params = {'n_estimators':range(100,1001,100),'max_depth':range(1,16,3)}\n",
    "cross = GridSearchCV(RandomForestClassifier(),param_grid=params,cv=StratifiedKFold(random_state=RANDOM_SEED)).fit(X_train,y_train)"
   ]
  },
  {
   "cell_type": "code",
   "execution_count": 63,
   "metadata": {
    "collapsed": false
   },
   "outputs": [
    {
     "name": "stdout",
     "output_type": "stream",
     "text": [
      "0.906586826347\n",
      "{'n_estimators': 500, 'max_depth': 13}\n"
     ]
    }
   ],
   "source": [
    "print(cross.best_score_)\n",
    "print(cross.best_params_)"
   ]
  },
  {
   "cell_type": "markdown",
   "metadata": {},
   "source": [
    "#### Изобразите аналогичную таблицу важности признаков для наилучшей настройки метода (значения могут отличаться)."
   ]
  },
  {
   "cell_type": "code",
   "execution_count": 65,
   "metadata": {
    "collapsed": false
   },
   "outputs": [
    {
     "name": "stdout",
     "output_type": "stream",
     "text": [
      "absences: 0.0706\n",
      "goout: 0.0543\n",
      "sex: 0.047\n",
      "G2: 0.0454\n",
      "age: 0.0445\n",
      "G1: 0.0444\n",
      "G3: 0.0423\n",
      "freetime: 0.0418\n",
      "famrel: 0.0416\n",
      "traveltime: 0.0342\n",
      "studytime: 0.0335\n",
      "health: 0.0328\n",
      "Fedu: 0.032\n",
      "Medu: 0.032\n",
      "Fjob_services: 0.023\n",
      "failures: 0.0208\n",
      "famsize: 0.0191\n",
      "address: 0.0189\n",
      "reason_other: 0.0183\n",
      "school: 0.0173\n",
      "romantic: 0.017\n",
      "nursery: 0.0169\n",
      "famsup: 0.0167\n",
      "reason_course: 0.0164\n",
      "Fjob_other: 0.0159\n",
      "activities: 0.0152\n",
      "reason_home: 0.0146\n",
      "guardian_mother: 0.0139\n",
      "guardian_other: 0.0138\n",
      "Mjob_other: 0.0138\n",
      "internet: 0.0124\n",
      "paid: 0.0122\n",
      "Mjob_services: 0.0119\n",
      "reason_reputation: 0.0118\n",
      "guardian_father: 0.0116\n",
      "Mjob_teacher: 0.0112\n",
      "higher: 0.0103\n",
      "Subject: 0.0101\n",
      "Mjob_at_home: 0.01\n",
      "Pstatus: 0.0093\n",
      "schoolsup: 0.0051\n",
      "Fjob_teacher: 0.005\n",
      "Mjob_health: 0.0049\n",
      "Fjob_at_home: 0.0039\n",
      "Fjob_health: 0.0022\n"
     ]
    }
   ],
   "source": [
    "md = cross.best_params_['max_depth']\n",
    "ne = cross.best_params_['n_estimators']\n",
    "bestm = RandomForestClassifier(max_depth=md,n_estimators=ne).fit(X_train,y_train)\n",
    "importances = list(bestm.feature_importances_)\n",
    "sortedimp = sorted(importances,reverse=True)\n",
    "for i in sortedimp:\n",
    "    print(studnew.columns.values[importances.index(i)]+': '+str(round(i,4)))"
   ]
  },
  {
   "cell_type": "markdown",
   "metadata": {},
   "source": [
    "#### Укажите значение accuracy для пяти наилучших настроек метода на контрольной выборке."
   ]
  },
  {
   "cell_type": "code",
   "execution_count": 64,
   "metadata": {
    "collapsed": false
   },
   "outputs": [
    {
     "name": "stdout",
     "output_type": "stream",
     "text": [
      "max_depth: 13, n_estimators: 500, accuracy: 0.894737\n",
      "max_depth: 13, n_estimators: 700, accuracy: 0.894737\n",
      "max_depth: 13, n_estimators: 1000, accuracy: 0.894737\n",
      "max_depth: 13, n_estimators: 900, accuracy: 0.894737\n",
      "max_depth: 13, n_estimators: 600, accuracy: 0.889952\n"
     ]
    }
   ],
   "source": [
    "scores = {x[1]: x[0] for x in cross.grid_scores_}\n",
    "fivebest = [x[1]  for x in sorted(scores.items(),reverse=True)[:5]]\n",
    "for i in fivebest:\n",
    "    res = 'max_depth: %d, n_estimators: %d, accuracy: %f'\n",
    "    md = i['max_depth']\n",
    "    ne = i['n_estimators']\n",
    "    mod = RandomForestClassifier(max_depth=md,n_estimators=ne).fit(X_train,y_train)\n",
    "    acsc = accuracy_score(y_test,mod.predict(X_test))\n",
    "    print(res % (md, ne, acsc))\n",
    "    "
   ]
  },
  {
   "cell_type": "markdown",
   "metadata": {},
   "source": [
    "#### Обучите GradientBoostingClassifier и найдите для него наилучшие параметры с помощью кросс-валидации. "
   ]
  },
  {
   "cell_type": "code",
   "execution_count": 44,
   "metadata": {
    "collapsed": false
   },
   "outputs": [],
   "source": [
    "params = {'n_estimators':range(100,1001,100),'max_depth':range(1,16,3),'loss':['deviance','exponential']}\n",
    "cross = GridSearchCV(GradientBoostingClassifier(),param_grid=params,cv=StratifiedKFold(random_state=RANDOM_SEED)).fit(X_train,y_train)"
   ]
  },
  {
   "cell_type": "code",
   "execution_count": 45,
   "metadata": {
    "collapsed": false
   },
   "outputs": [
    {
     "name": "stdout",
     "output_type": "stream",
     "text": [
      "0.908982035928\n",
      "{'n_estimators': 800, 'loss': 'exponential', 'max_depth': 7}\n"
     ]
    }
   ],
   "source": [
    "print(cross.best_score_)\n",
    "print(cross.best_params_)"
   ]
  },
  {
   "cell_type": "markdown",
   "metadata": {},
   "source": [
    "#### Изобразите таблицу важности признаков для наилучшей настройки метода. Отличается ли она от таблицы метода RandomForest. Почему? "
   ]
  },
  {
   "cell_type": "code",
   "execution_count": 58,
   "metadata": {
    "collapsed": false
   },
   "outputs": [
    {
     "name": "stdout",
     "output_type": "stream",
     "text": [
      "absences: 0.0111\n",
      "sex: 0.0097\n",
      "goout: 0.0087\n",
      "age: 0.0083\n",
      "freetime: 0.0074\n",
      "G3: 0.0069\n",
      "G1: 0.0067\n",
      "G2: 0.0063\n",
      "health: 0.0053\n",
      "studytime: 0.0051\n",
      "traveltime: 0.0048\n",
      "famrel: 0.0046\n",
      "famsize: 0.0042\n",
      "Fedu: 0.0038\n",
      "nursery: 0.0037\n",
      "Mjob_teacher: 0.0036\n",
      "failures: 0.0035\n",
      "address: 0.0035\n",
      "reason_other: 0.0035\n",
      "Medu: 0.0034\n",
      "activities: 0.0033\n",
      "Fjob_services: 0.0033\n",
      "reason_course: 0.003\n",
      "paid: 0.0027\n",
      "internet: 0.0027\n",
      "Mjob_services: 0.0026\n",
      "famsup: 0.0026\n",
      "Fjob_other: 0.0023\n",
      "romantic: 0.0023\n",
      "Mjob_other: 0.002\n",
      "guardian_father: 0.002\n",
      "reason_home: 0.002\n",
      "school: 0.0019\n",
      "reason_reputation: 0.0018\n",
      "Mjob_health: 0.0014\n",
      "higher: 0.0014\n",
      "guardian_mother: 0.0014\n",
      "Mjob_at_home: 0.0013\n",
      "guardian_other: 0.0012\n",
      "Pstatus: 0.0012\n",
      "schoolsup: 0.0008\n",
      "Fjob_at_home: 0.0008\n",
      "Subject: 0.0007\n",
      "Fjob_health: 0.0002\n",
      "Fjob_teacher: 0.0001\n"
     ]
    }
   ],
   "source": [
    "md = cross.best_params_['max_depth']\n",
    "ne = cross.best_params_['n_estimators']\n",
    "l = cross.best_params_['loss']\n",
    "bestm = GradientBoostingClassifier(max_depth=md,n_estimators=ne,loss=l).fit(X_train,y_train)\n",
    "importances = list(bestm.feature_importances_)\n",
    "sortedimp = sorted(importances,reverse=True)\n",
    "for i in sortedimp:\n",
    "    print(studnew.columns.values[importances.index(i)]+': '+str(round(i,4)))"
   ]
  },
  {
   "cell_type": "markdown",
   "metadata": {},
   "source": [
    "Таблицы важности признаков различаются, в GradientBoostingClassifier признаки имеют намного меньшую важность, хоть порядок в целом схож. Насколько я поняла, важность признака зависит от того, сколько раз он содержится в разветвленях дерева - чем чаще, тем более важен признак. В бустинге используются деревья очень малой глубины, что снижает количество \"использований\" признака и, следовательно, его важность, по сравнению с деревьями, где глубина каждого дерева больше."
   ]
  },
  {
   "cell_type": "markdown",
   "metadata": {},
   "source": [
    "#### Укажите значение accuracy для пяти наилучших настроек метода. "
   ]
  },
  {
   "cell_type": "code",
   "execution_count": 46,
   "metadata": {
    "collapsed": false
   },
   "outputs": [
    {
     "name": "stdout",
     "output_type": "stream",
     "text": [
      "max_depth: 7, n_estimators: 800, loss: exponential, accuracy: 0.913876\n",
      "max_depth: 7, n_estimators: 900, loss: exponential, accuracy: 0.909091\n",
      "max_depth: 7, n_estimators: 400, loss: exponential, accuracy: 0.918660\n",
      "max_depth: 7, n_estimators: 300, loss: exponential, accuracy: 0.923445\n",
      "max_depth: 7, n_estimators: 100, loss: exponential, accuracy: 0.918660\n"
     ]
    }
   ],
   "source": [
    "scores = {x[1]: x[0] for x in cross.grid_scores_}\n",
    "fivebest = [x[1]  for x in sorted(scores.items(),reverse=True)[:5]]\n",
    "for i in fivebest:\n",
    "    res = 'max_depth: %d, n_estimators: %d, loss: %s, accuracy: %f'\n",
    "    md = i['max_depth']\n",
    "    ne = i['n_estimators']\n",
    "    l = i['loss']\n",
    "    mod = GradientBoostingClassifier(max_depth=md,n_estimators=ne,loss=l).fit(X_train,y_train)\n",
    "    acsc = accuracy_score(y_test,mod.predict(X_test))\n",
    "    print(res % (md, ne, l, acsc))"
   ]
  },
  {
   "cell_type": "markdown",
   "metadata": {
    "collapsed": true
   },
   "source": [
    "#### Обучите AdaBoostClassifier и найдите для него наилучшие параметры с помощью кросс-валидации. "
   ]
  },
  {
   "cell_type": "code",
   "execution_count": 59,
   "metadata": {
    "collapsed": true
   },
   "outputs": [],
   "source": [
    "params = {'n_estimators':range(10,500,50)}\n",
    "cross = GridSearchCV(AdaBoostClassifier(random_state=RANDOM_SEED),param_grid=params,cv=StratifiedKFold(random_state=RANDOM_SEED))\n",
    "cross.fit(X_train,y_train)"
   ]
  },
  {
   "cell_type": "code",
   "execution_count": 60,
   "metadata": {
    "collapsed": false
   },
   "outputs": [
    {
     "name": "stdout",
     "output_type": "stream",
     "text": [
      "0.879041916168\n",
      "{'n_estimators': 10}\n"
     ]
    }
   ],
   "source": [
    "print(cross.best_score_)\n",
    "print(cross.best_params_)"
   ]
  },
  {
   "cell_type": "markdown",
   "metadata": {},
   "source": [
    "#### Укажите значение accuracy для наилучших настроек метода."
   ]
  },
  {
   "cell_type": "code",
   "execution_count": 61,
   "metadata": {
    "collapsed": false
   },
   "outputs": [
    {
     "name": "stdout",
     "output_type": "stream",
     "text": [
      "n_estimators: 10, accuracy: 0.880383\n",
      "n_estimators: 60, accuracy: 0.870813\n",
      "n_estimators: 160, accuracy: 0.870813\n",
      "n_estimators: 210, accuracy: 0.870813\n",
      "n_estimators: 460, accuracy: 0.870813\n"
     ]
    }
   ],
   "source": [
    "scores = {x[1]: x[0] for x in cross.grid_scores_}\n",
    "fivebest = [x[1]  for x in sorted(scores.items(),reverse=True)[:5]]\n",
    "for i in fivebest:\n",
    "    res = 'n_estimators: %d, accuracy: %f'\n",
    "    ne = i['n_estimators']\n",
    "    mod = AdaBoostClassifier(n_estimators=ne).fit(X_train,y_train)\n",
    "    acsc = accuracy_score(y_test,mod.predict(X_test))\n",
    "    print(res % (ne, acsc))"
   ]
  },
  {
   "cell_type": "markdown",
   "metadata": {
    "collapsed": true
   },
   "source": [
    "#### Какой из классификаторов оказался лучше?\n",
    "GradientBoostingClassifier."
   ]
  },
  {
   "cell_type": "markdown",
   "metadata": {},
   "source": [
    "## Рубрика \"По отмененным заявкам\"\n",
    "Немного предобработки данных и регрессия.\n",
    "\n",
    "#### Используя объект SelectKBest с параметром f_regression, выберите два признака, которые наиболее сильно связаны с G3"
   ]
  },
  {
   "cell_type": "code",
   "execution_count": 66,
   "metadata": {
    "collapsed": false,
    "scrolled": false
   },
   "outputs": [
    {
     "name": "stdout",
     "output_type": "stream",
     "text": [
      "G1, G2\n"
     ]
    }
   ],
   "source": [
    "sel = SelectKBest(score_func=f_regression, k=2)\n",
    "feat = sel.fit_transform(stud.drop('G3', axis=1),stud['G3'])\n",
    "print(', '.join(stud.iloc[:,sel.get_support(indices=True)].columns))"
   ]
  },
  {
   "cell_type": "markdown",
   "metadata": {},
   "source": [
    "### Регрессия (Max 4)\n",
    "Выберите один признак, который наиболее влияет на признак G3 и используя кросс-валидацию (cross-validation) выполните, выполните следующее:"
   ]
  },
  {
   "cell_type": "markdown",
   "metadata": {},
   "source": [
    "- На обучающей выборки обучите объект [RidgeСV](http://scikit-learn.org/stable/modules/generated/sklearn.linear_model.RidgeCV.html#sklearn.linear_model.RidgeCV) для различных alpha (0.2)\n",
    "- Выберите alpha при котором RidgeCV лучше всего предсказывает значения (0.1)\n",
    "- Подсчитайте метрику mean absolute error, mean squared error, median absolute error,r2 score(0.2)\n",
    "- Max (0.5)\n",
    "- ------------------------------------\n",
    "- Создайте объекты [SGDRegressor](http://scikit-learn.org/stable/modules/generated/sklearn.linear_model.SGDRegressor.html#sklearn.linear_model.SGDRegressor), используя все возможных варианты аргумента penalty(0.2)\n",
    "- Обучите все полученных объекты на обучающей выборке (0.1)\n",
    "- Подсчитайте метрику r2 score для всех объектов (0.2)\n",
    "- Max (0.5)\n",
    "- ------------------------------------\n",
    "- Создайте объекты с параметрами max_depth = 1,3, 10 [GradientBoostingRegressor](http://scikit-learn.org/stable/modules/generated/sklearn.ensemble.GradientBoostingRegressor.html#sklearn.ensemble.GradientBoostingRegressor) и для каждого объекта изменяйте количество n_estimators  от 100 до 1000 с шагом 100 (0.2)\n",
    "- Подсчитайте метрику r2 score для всех объектов (0.1)\n",
    "- Визуализируйте значения на графике (0.2)\n",
    "- Max (0.5)\n",
    "- -----------------------------------\n",
    "- Используя все в библиотеке sklearn доступные регрессоры найдите самый лучший. (2.5)"
   ]
  },
  {
   "cell_type": "code",
   "execution_count": 67,
   "metadata": {
    "collapsed": false
   },
   "outputs": [
    {
     "name": "stdout",
     "output_type": "stream",
     "text": [
      "G2\n"
     ]
    }
   ],
   "source": [
    "sel = SelectKBest(score_func=f_regression, k=1)\n",
    "onefeat = sel.fit_transform(stud.drop('G3', axis=1),stud['G3'])\n",
    "print(', '.join(stud.iloc[:,sel.get_support(indices=True)].columns))\n",
    "\n",
    "#выбрали один наиболее влиятельный признак, будем по нему предсказывать G3\n",
    "X_train, X_test, y_train, y_test = train_test_split(onefeat, stud['G3'], random_state=RANDOM_SEED)"
   ]
  },
  {
   "cell_type": "markdown",
   "metadata": {},
   "source": [
    "#### На обучающей выборке обучите объект RidgeСV для различных alpha (0.2)"
   ]
  },
  {
   "cell_type": "code",
   "execution_count": 68,
   "metadata": {
    "collapsed": true
   },
   "outputs": [],
   "source": [
    "rcv = RidgeCV(alphas=(0.001,0.01,0.1,1,2,5,7,10,15,100,1000)).fit(X_train,y_train)"
   ]
  },
  {
   "cell_type": "markdown",
   "metadata": {},
   "source": [
    "#### Выберите alpha при котором RidgeCV лучше всего предсказывает значения (0.1)"
   ]
  },
  {
   "cell_type": "code",
   "execution_count": 69,
   "metadata": {
    "collapsed": false
   },
   "outputs": [
    {
     "data": {
      "text/plain": [
       "7.0"
      ]
     },
     "execution_count": 69,
     "metadata": {},
     "output_type": "execute_result"
    }
   ],
   "source": [
    "ba = rcv.alpha_\n",
    "ba #лучшая альфа"
   ]
  },
  {
   "cell_type": "markdown",
   "metadata": {},
   "source": [
    "#### Подсчитайте метрику mean absolute error, mean squared error, median absolute error,r2 score(0.2)"
   ]
  },
  {
   "cell_type": "code",
   "execution_count": 70,
   "metadata": {
    "collapsed": false
   },
   "outputs": [
    {
     "name": "stdout",
     "output_type": "stream",
     "text": [
      "Mean absolute error: 0.771740\n",
      "Mean squared error: 1.589296\n",
      "Median absolute error: 0.598676\n",
      "R2 score: 0.849618\n"
     ]
    }
   ],
   "source": [
    "y_pred = rcv.predict(X_test)\n",
    "res = 'Mean absolute error: %f\\nMean squared error: %f\\nMedian absolute error: %f\\nR2 score: %f'\n",
    "print(res % (mean_absolute_error(y_test,y_pred), mean_squared_error(y_test,y_pred), \\\n",
    "             median_absolute_error(y_test,y_pred), r2_score(y_test,y_pred)))"
   ]
  },
  {
   "cell_type": "markdown",
   "metadata": {},
   "source": [
    "-----------------------\n",
    "#### Создайте объекты SGDRegressor, используя все возможные варианты аргумента penalty(0.2) <br> Обучите все полученныe объекты на обучающей выборке (0.1) <br> Подсчитайте метрику r2 score для всех объектов (0.2)"
   ]
  },
  {
   "cell_type": "code",
   "execution_count": 77,
   "metadata": {
    "collapsed": false
   },
   "outputs": [
    {
     "name": "stdout",
     "output_type": "stream",
     "text": [
      "l1: 0.853215978699\n",
      "l2: 0.84998316492\n",
      "elasticnet: 0.848604589804\n",
      "none: 0.84888817534\n"
     ]
    }
   ],
   "source": [
    "pens = ['l1','l2','elasticnet','none']\n",
    "for pen in pens:\n",
    "    print(pen+': '+str(r2_score(y_test,SGDRegressor(penalty=pen).fit(X_train,y_train).predict(X_test))))"
   ]
  },
  {
   "cell_type": "markdown",
   "metadata": {},
   "source": [
    "---------\n",
    "#### Создайте объекты с параметрами max_depth = 1,3, 10 GradientBoostingRegressor и для каждого объекта изменяйте количество n_estimators от 100 до 1000 с шагом 100 (0.2) <br> Подсчитайте метрику r2 score для всех объектов (0.1) <br> Визуализируйте значения на графике (0.2)"
   ]
  },
  {
   "cell_type": "code",
   "execution_count": 89,
   "metadata": {
    "collapsed": false
   },
   "outputs": [
    {
     "name": "stdout",
     "output_type": "stream",
     "text": [
      "max_depth 1, n_estimators 100\tR2 score: 0.848920\n",
      "max_depth 1, n_estimators 200\tR2 score: 0.847629\n",
      "max_depth 1, n_estimators 300\tR2 score: 0.847542\n",
      "max_depth 1, n_estimators 400\tR2 score: 0.847538\n",
      "max_depth 1, n_estimators 500\tR2 score: 0.847538\n",
      "max_depth 1, n_estimators 600\tR2 score: 0.847538\n",
      "max_depth 1, n_estimators 700\tR2 score: 0.847538\n",
      "max_depth 1, n_estimators 800\tR2 score: 0.847538\n",
      "max_depth 1, n_estimators 900\tR2 score: 0.847538\n",
      "max_depth 1, n_estimators 1000\tR2 score: 0.847538\n",
      "max_depth 3, n_estimators 100\tR2 score: 0.847543\n",
      "max_depth 3, n_estimators 200\tR2 score: 0.847538\n",
      "max_depth 3, n_estimators 300\tR2 score: 0.847538\n",
      "max_depth 3, n_estimators 400\tR2 score: 0.847538\n",
      "max_depth 3, n_estimators 500\tR2 score: 0.847538\n",
      "max_depth 3, n_estimators 600\tR2 score: 0.847538\n",
      "max_depth 3, n_estimators 700\tR2 score: 0.847538\n",
      "max_depth 3, n_estimators 800\tR2 score: 0.847538\n",
      "max_depth 3, n_estimators 900\tR2 score: 0.847538\n",
      "max_depth 3, n_estimators 1000\tR2 score: 0.847538\n",
      "max_depth 10, n_estimators 100\tR2 score: 0.847541\n",
      "max_depth 10, n_estimators 200\tR2 score: 0.847538\n",
      "max_depth 10, n_estimators 300\tR2 score: 0.847538\n",
      "max_depth 10, n_estimators 400\tR2 score: 0.847538\n",
      "max_depth 10, n_estimators 500\tR2 score: 0.847538\n",
      "max_depth 10, n_estimators 600\tR2 score: 0.847538\n",
      "max_depth 10, n_estimators 700\tR2 score: 0.847538\n",
      "max_depth 10, n_estimators 800\tR2 score: 0.847538\n",
      "max_depth 10, n_estimators 900\tR2 score: 0.847538\n",
      "max_depth 10, n_estimators 1000\tR2 score: 0.847538\n"
     ]
    },
    {
     "data": {
      "text/plain": [
       "<matplotlib.legend.Legend at 0xef86370>"
      ]
     },
     "execution_count": 89,
     "metadata": {},
     "output_type": "execute_result"
    },
    {
     "data": {
      "image/png": "[encoded data removed]",
      "text/plain": [
       "<matplotlib.figure.Figure at 0xef668b0>"
      ]
     },
     "metadata": {},
     "output_type": "display_data"
    }
   ],
   "source": [
    "depths = [1,3,10]\n",
    "nest = list(range(100,1001,100)) \n",
    "#не понимаю значения графика результатов по моделям с такими значениями n_estimators\n",
    "#график про nest = list(range(10, 151, 10)) выглядит более осмысленным\n",
    "\n",
    "fig = plt.figure()\n",
    "ax = fig.add_axes([0, 0, 1, 1])\n",
    "\n",
    "for d in depths:\n",
    "    dscores = []\n",
    "    for n in nest:\n",
    "        score = r2_score(y_test, GradientBoostingRegressor(max_depth=d,n_estimators=n).fit(X_train,y_train).predict(X_test))\n",
    "        dscores.append(score)\n",
    "        res = 'max_depth %d, n_estimators %d\\tR2 score: %f'\n",
    "        print(res % (d, n, score))\n",
    "    ax.plot(nest,dscores,label = str(d))\n",
    "\n",
    "plt.legend(loc = 1)"
   ]
  },
  {
   "cell_type": "markdown",
   "metadata": {},
   "source": [
    "#### Используя все в библиотеке sklearn доступные регрессоры найдите самый лучший. (2.5)"
   ]
  },
  {
   "cell_type": "code",
   "execution_count": 88,
   "metadata": {
    "collapsed": false,
    "scrolled": true
   },
   "outputs": [
    {
     "name": "stdout",
     "output_type": "stream",
     "text": [
      "SGDRegressor: 0.853395622191\n",
      "RandomForestRegressor: 0.847122163881\n",
      "MLPRegressor: 0.851390089208\n",
      "SVR: 0.847519800923\n",
      "GradientBoostingRegressor: 0.847537900801\n",
      "KNeighborsRegressor: 0.80439410776\n",
      "max: SGDRegressor - 0.853395622191\n"
     ]
    }
   ],
   "source": [
    "models = {'SGDRegressor': SGDRegressor(), \\\n",
    "          'GradientBoostingRegressor': GradientBoostingRegressor(n_estimators=1000), \\\n",
    "          'RandomForestRegressor': RandomForestRegressor(n_estimators=100), \\\n",
    "          'KNeighborsRegressor': KNeighborsRegressor(n_neighbors=10), \\\n",
    "          'MLPRegressor': MLPRegressor(), \\\n",
    "          'SVR': SVR(C=10)}\n",
    "res = {}\n",
    "for model in models:\n",
    "    r = models[model].fit(X_train,y_train).score(X_test,y_test)\n",
    "    res[r] = model\n",
    "    print(model+': '+str(r))\n",
    "\n",
    "print('max: '+res[max(res.keys())]+' - '+str(max(res.keys())))\n",
    "#лучшие - MLPRegressor и SGDRegressor, 85%"
   ]
  },
  {
   "cell_type": "markdown",
   "metadata": {},
   "source": [
    "### Замечания\n",
    "\n",
    "- В работе следует использовать библиотеку scikit-learn версии 0.18 и scipy версии 0.18.1\n",
    "- Используйте данный Ipython Notebook при оформлении домашнего задания."
   ]
  }
 ],
 "metadata": {
  "kernelspec": {
   "display_name": "Python 3",
   "language": "python",
   "name": "python3"
  },
  "language_info": {
   "codemirror_mode": {
    "name": "ipython",
    "version": 3
   },
   "file_extension": ".py",
   "mimetype": "text/x-python",
   "name": "python",
   "nbconvert_exporter": "python",
   "pygments_lexer": "ipython3",
   "version": "3.5.2"
  }
 },
 "nbformat": 4,
 "nbformat_minor": 0
}
