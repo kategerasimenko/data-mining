{
 "cells": [
  {
   "cell_type": "markdown",
   "metadata": {},
   "source": [
    "# Текущий список вопросов к проектному заданию.\n",
    "Полные данные и подробное описание задачи можно найти здесь"
   ]
  },
  {
   "cell_type": "code",
   "execution_count": 1,
   "metadata": {
    "collapsed": false
   },
   "outputs": [],
   "source": [
    "import numpy as np\n",
    "import pandas as pd\n",
    "import matplotlib.pylab as plt\n",
    "import random\n",
    "from sklearn.feature_extraction.text import CountVectorizer, TfidfVectorizer\n",
    "from sklearn.feature_extraction import DictVectorizer\n",
    "from sklearn.linear_model import SGDRegressor\n",
    "from sklearn.cross_validation import train_test_split\n",
    "from sklearn.grid_search import GridSearchCV\n",
    "from scipy.sparse import hstack\n",
    "from sklearn.preprocessing import LabelEncoder, OneHotEncoder\n",
    "from sklearn.ensemble import RandomForestRegressor\n",
    "%matplotlib inline"
   ]
  },
  {
   "cell_type": "markdown",
   "metadata": {},
   "source": [
    "#### 1. Признаки какого вида встречаются в данных?\n",
    "Открыть данные с помощью pandas и посмотреть на первые несколько строк таблицы."
   ]
  },
  {
   "cell_type": "code",
   "execution_count": 2,
   "metadata": {
    "collapsed": false,
    "scrolled": true
   },
   "outputs": [
    {
     "data": {
      "text/html": [
       "<div>\n",
       "<table border=\"1\" class=\"dataframe\">\n",
       "  <thead>\n",
       "    <tr style=\"text-align: right;\">\n",
       "      <th></th>\n",
       "      <th>Unnamed: 0</th>\n",
       "      <th>Id</th>\n",
       "      <th>Title</th>\n",
       "      <th>FullDescription</th>\n",
       "      <th>LocationRaw</th>\n",
       "      <th>LocationNormalized</th>\n",
       "      <th>ContractType</th>\n",
       "      <th>ContractTime</th>\n",
       "      <th>Company</th>\n",
       "      <th>Category</th>\n",
       "      <th>SalaryRaw</th>\n",
       "      <th>SalaryNormalized</th>\n",
       "      <th>SourceName</th>\n",
       "    </tr>\n",
       "  </thead>\n",
       "  <tbody>\n",
       "    <tr>\n",
       "      <th>0</th>\n",
       "      <td>96318</td>\n",
       "      <td>69249293</td>\n",
       "      <td>Mobile Desktop Support Analyst</td>\n",
       "      <td>Introduction A Support Analyst with experience...</td>\n",
       "      <td>London</td>\n",
       "      <td>London</td>\n",
       "      <td>NaN</td>\n",
       "      <td>NaN</td>\n",
       "      <td>Matchtech Group plc.</td>\n",
       "      <td>Engineering Jobs</td>\n",
       "      <td>Up to 32/hr</td>\n",
       "      <td>61440</td>\n",
       "      <td>rengineeringjobs.com</td>\n",
       "    </tr>\n",
       "    <tr>\n",
       "      <th>1</th>\n",
       "      <td>166582</td>\n",
       "      <td>71298764</td>\n",
       "      <td>Occupational Therapist</td>\n",
       "      <td>OT Role  Birmingham At Recruiting for Care thi...</td>\n",
       "      <td>Birimingham, Birmingham</td>\n",
       "      <td>UK</td>\n",
       "      <td>part_time</td>\n",
       "      <td>contract</td>\n",
       "      <td>Recruiting for Care</td>\n",
       "      <td>Social work Jobs</td>\n",
       "      <td>20 - 30/hour</td>\n",
       "      <td>48000</td>\n",
       "      <td>cv-library.co.uk</td>\n",
       "    </tr>\n",
       "    <tr>\n",
       "      <th>2</th>\n",
       "      <td>36385</td>\n",
       "      <td>68256674</td>\n",
       "      <td>Regional Sales Executive</td>\n",
       "      <td>Our client, who is one of the UKs largest indu...</td>\n",
       "      <td>Leeds</td>\n",
       "      <td>Leeds</td>\n",
       "      <td>NaN</td>\n",
       "      <td>permanent</td>\n",
       "      <td>NaN</td>\n",
       "      <td>HR &amp; Recruitment Jobs</td>\n",
       "      <td>15k - 20k</td>\n",
       "      <td>17500</td>\n",
       "      <td>careersinrecruitment.com</td>\n",
       "    </tr>\n",
       "    <tr>\n",
       "      <th>3</th>\n",
       "      <td>80896</td>\n",
       "      <td>69023774</td>\n",
       "      <td>Domiciliary Branch Manager  Welwyn Garden City</td>\n",
       "      <td>Our client is currently recruiting for an expe...</td>\n",
       "      <td>Welwyn Garden City, Hertfordshire</td>\n",
       "      <td>Welwyn Garden City</td>\n",
       "      <td>NaN</td>\n",
       "      <td>permanent</td>\n",
       "      <td>Maxim recruitment Solutions</td>\n",
       "      <td>Social work Jobs</td>\n",
       "      <td>29000 - 31000/annum</td>\n",
       "      <td>30000</td>\n",
       "      <td>cv-library.co.uk</td>\n",
       "    </tr>\n",
       "    <tr>\n",
       "      <th>4</th>\n",
       "      <td>90305</td>\n",
       "      <td>69165486</td>\n",
       "      <td>Digital communities editor</td>\n",
       "      <td>We are a global charitable foundation dedicate...</td>\n",
       "      <td>London</td>\n",
       "      <td>London</td>\n",
       "      <td>NaN</td>\n",
       "      <td>NaN</td>\n",
       "      <td>Wellcome trust</td>\n",
       "      <td>Creative &amp; Design Jobs</td>\n",
       "      <td>28,000 dependant on experience</td>\n",
       "      <td>28000</td>\n",
       "      <td>journalism.co.uk</td>\n",
       "    </tr>\n",
       "  </tbody>\n",
       "</table>\n",
       "</div>"
      ],
      "text/plain": [
       "   Unnamed: 0        Id                                           Title  \\\n",
       "0       96318  69249293                  Mobile Desktop Support Analyst   \n",
       "1      166582  71298764                          Occupational Therapist   \n",
       "2       36385  68256674                        Regional Sales Executive   \n",
       "3       80896  69023774  Domiciliary Branch Manager  Welwyn Garden City   \n",
       "4       90305  69165486                      Digital communities editor   \n",
       "\n",
       "                                     FullDescription  \\\n",
       "0  Introduction A Support Analyst with experience...   \n",
       "1  OT Role  Birmingham At Recruiting for Care thi...   \n",
       "2  Our client, who is one of the UKs largest indu...   \n",
       "3  Our client is currently recruiting for an expe...   \n",
       "4  We are a global charitable foundation dedicate...   \n",
       "\n",
       "                         LocationRaw  LocationNormalized ContractType  \\\n",
       "0                             London              London          NaN   \n",
       "1            Birimingham, Birmingham                  UK    part_time   \n",
       "2                              Leeds               Leeds          NaN   \n",
       "3  Welwyn Garden City, Hertfordshire  Welwyn Garden City          NaN   \n",
       "4                             London              London          NaN   \n",
       "\n",
       "  ContractTime                      Company                Category  \\\n",
       "0          NaN         Matchtech Group plc.        Engineering Jobs   \n",
       "1     contract          Recruiting for Care        Social work Jobs   \n",
       "2    permanent                          NaN   HR & Recruitment Jobs   \n",
       "3    permanent  Maxim recruitment Solutions        Social work Jobs   \n",
       "4          NaN               Wellcome trust  Creative & Design Jobs   \n",
       "\n",
       "                        SalaryRaw  SalaryNormalized                SourceName  \n",
       "0                     Up to 32/hr             61440      rengineeringjobs.com  \n",
       "1                    20 - 30/hour             48000          cv-library.co.uk  \n",
       "2                       15k - 20k             17500  careersinrecruitment.com  \n",
       "3             29000 - 31000/annum             30000          cv-library.co.uk  \n",
       "4  28,000 dependant on experience             28000          journalism.co.uk  "
      ]
     },
     "execution_count": 2,
     "metadata": {},
     "output_type": "execute_result"
    }
   ],
   "source": [
    "data = pd.read_csv('shrinked_project_data.csv')\n",
    "data.head()"
   ]
  },
  {
   "cell_type": "markdown",
   "metadata": {},
   "source": [
    "Ответ: есть категориальные (например, Location, Company) и вещественные (например, SalaryNormalized).\n",
    "#### 2. Найти самые популярные и редкие слова в тексте (здесь и далее речь идет о поле FullDescription). Объяснить почему именно эти слова встречаются так часто или так редко.\n",
    "Прочитать про класс sklearn.feature_extraction.text.CountVectorizer, его методы fit и transform. Понять как кодирующей матрице получить частоты слов."
   ]
  },
  {
   "cell_type": "code",
   "execution_count": 31,
   "metadata": {
    "collapsed": false
   },
   "outputs": [],
   "source": [
    "texts = data['FullDescription']\n",
    "vectorizer = CountVectorizer(analyzer='word', stop_words='english', lowercase=True)\n",
    "model = vectorizer.fit(texts)\n",
    "text_model = model.transform(texts)\n",
    "text_model = text_model.toarray()"
   ]
  },
  {
   "cell_type": "code",
   "execution_count": 4,
   "metadata": {
    "collapsed": false,
    "scrolled": true
   },
   "outputs": [
    {
     "name": "stdout",
     "output_type": "stream",
     "text": [
      "frequent: required, service, excellent, support, job, looking, development, uk, company, manager, management, client, sales, working, skills, business, team, work, role, experience\n",
      "rare: knees, matlabfpga, matrixes, mattastutejobs, matthewhayesfirstselection, matthewssearch, mattinsonpartnership, matlabdue, mattock, matttechpeople, matures, maudsley, maui, maunufature, maureenhughes, mattress, mauritius, mathsteacherswanted_job, mathsandenglishtutor_job, materialsdeveloping\n"
     ]
    }
   ],
   "source": [
    "nums = np.sum(text_model,axis=0)\n",
    "indices = np.argsort(nums)\n",
    "words_pop = np.array(vectorizer.get_feature_names())[indices[-20:]]\n",
    "print('frequent: '+', '.join(words_pop))\n",
    "words_rare = np.array(vectorizer.get_feature_names())[indices[:20]]\n",
    "print('rare: '+', '.join(words_rare))"
   ]
  },
  {
   "cell_type": "markdown",
   "metadata": {},
   "source": [
    "Самые частые слова - положительно окрашены, связаны с работой и успехом.\n",
    "Самые редкие - я таких даже не знаю... что-то похоже на тэги (без пробелов), что-то на опечатки, что-то просто очень странное.\n",
    "\n",
    "\n",
    "#### 3. Построить распределение целевой переменной. Посчитать её среднее значение, медиану, дисперсию. Как выглядят объявления, в которых предлагается очень маленькая и очень большая зарплата? При выполнении задания полезным может оказаться метод pandas.DataFrame.quantile.\n",
    "Освежить в памяти занятия по pandas. Плотность можно построить с помощью метода pandas.DataFrame.hist, остальные функции не составит труда найти."
   ]
  },
  {
   "cell_type": "code",
   "execution_count": 23,
   "metadata": {
    "collapsed": false,
    "scrolled": true
   },
   "outputs": [
    {
     "name": "stdout",
     "output_type": "stream",
     "text": [
      "mean: 34136.1966744\n",
      "median: 30000.0\n",
      "variance: 316129147.814\n"
     ]
    },
    {
     "data": {
      "image/png": "[encoded data removed]",
      "text/plain": [
       "<matplotlib.figure.Figure at 0x721961d0>"
      ]
     },
     "metadata": {},
     "output_type": "display_data"
    }
   ],
   "source": [
    "salary = data['SalaryNormalized']\n",
    "salary.hist(bins=40)\n",
    "print('mean: '+str(salary.mean()))\n",
    "print('median: '+str(salary.median()))\n",
    "print('variance: '+str(salary.var()))"
   ]
  },
  {
   "cell_type": "code",
   "execution_count": 6,
   "metadata": {
    "collapsed": true
   },
   "outputs": [],
   "source": [
    "pd.set_option('display.max_colwidth', -1)"
   ]
  },
  {
   "cell_type": "code",
   "execution_count": 79,
   "metadata": {
    "collapsed": false
   },
   "outputs": [
    {
     "name": "stdout",
     "output_type": "stream",
     "text": [
      "5308    The employer is looking for someone enthusiastic, willing, honest, has integrity, loyal, obedient who wants to succeed and get ahead in life. The candidate for this job will need to be able to drive and arrange their own transport to our premises in Watton, Norfolk. They will need to be clear spoken, very good telephone manner and be a wellpresented confident person in nature. The job itself will involve keeping records of sales from initial visits through to sale completion, sending out marketing literature, training in the facetoface sales will be a progression route. Mostly the candidate will be working in the office at Watton supporting the sales staff with record keeping, communicate with people across all areas of the business, support with welcoming visitors. Targets will be set and if these are achieved there is potential to vastly increase the hourly wage to above national minimum wage\n",
      "Name: FullDescription, dtype: object\n"
     ]
    }
   ],
   "source": [
    "low_salary = data[data['SalaryNormalized'] < salary.quantile(q=0.01)]\n",
    "ind = random.randint(0,len(low_salary))\n",
    "print(low_salary[ind:(ind+1)]['FullDescription'])\n",
    "#выдается случайное объявление из группы низких зарплат"
   ]
  },
  {
   "cell_type": "code",
   "execution_count": 80,
   "metadata": {
    "collapsed": false
   },
   "outputs": [
    {
     "name": "stdout",
     "output_type": "stream",
     "text": [
      "19059    Our Client is a longstanding privatelyheld company and a global manufacturer and marketer of quality branded rodent control products, caring control products for pets and wildlife, natural solutions for home and garden, wild bird feeding products, and garden dcor to consumers and the professional pest control market. The role: To deliver growth and sales across ecommerce accounts by developing new business and managing existing ecommerce accounts; To develop strong German customer relationships in order to deliver long term sales growth in line with agreed strategies; Provide high standards of German customer relationship management to drive new and repeat business opportunities; To develop operational and tactical sales and marketing plans to achieve agreed goals; To create and manage an effective network with relevant Corporation and associated third party agency resources. Your profile: Demonstrable experience of developing third party online accounts; Technical understanding of ecommerce; Strong relationship building skills across matrix structures both internally and externally; Ability to influence internally to gain resources to solve account issues or develop account strategies; Evidence of success in influencing and developing effective relationships with large national accounts and online retailers; Experience of driving improvements in online account profitability; Ability to both lead from the front as well as operate effectively as a team player; Highly analytical, commercially astute and strong verbal/written communication skills; Ability to create and agree annual joint business plans including promotional planning Experience of ecommerce analytical packages such as Google Analytics etc Category management in a European retailer Ability to manage complex relationships with multicontact points and a high number of SKUs Native German, fluent English To Apply: Please send your CV and skype details to alinaemgirecruitment.com or call us at **** **** **** for more information. If this position is not for you check out http://www.mgirecruitment.com/ for ****'s more job opportunities or to register your CV should something more suitable arise. Who we are: mgi recruitment, among Europe's leading recruitment agencies. One of our consultants will be appointed to work with you so we can help you through the whole hiring process. Our dedicated team is looking forward to meeting you Please visit us on: http://www.mgirecruitment.com/\n",
      "Name: FullDescription, dtype: object\n"
     ]
    }
   ],
   "source": [
    "high_salary = data[data['SalaryNormalized'] > salary.quantile(q=0.99)]\n",
    "ind = random.randint(0,len(high_salary))\n",
    "print(high_salary[ind:(ind+1)]['FullDescription'])\n",
    "#выдается случайное объявление из группы высоких зарплат"
   ]
  },
  {
   "cell_type": "markdown",
   "metadata": {
    "collapsed": true
   },
   "source": [
    "Кажется, что в объявлениях с низкими зарплатами больше четких требований, в объявлениях с высокими зарплатами много красивых слов. И должности различаются, конечно.\n",
    "\n",
    "#### 4. Предлагаемый авторами задания критерий качества - среднее абсолютное отклонение предсказания. Вычислить значение ошибки предсказания, если в качестве предсказания будет использоваться среднее значение зарплаты.\n",
    "\n",
    "Подумайте, может ли какое-то другое число давать меньшее значение ошибки?"
   ]
  },
  {
   "cell_type": "code",
   "execution_count": 13,
   "metadata": {
    "collapsed": false
   },
   "outputs": [
    {
     "name": "stdout",
     "output_type": "stream",
     "text": [
      "13472.3265926\n",
      "13039.7096049\n"
     ]
    }
   ],
   "source": [
    "mad_mean = np.abs(salary - salary.mean()).mean()\n",
    "print(mad_mean)\n",
    "mad_median = np.abs(salary - salary.median()).mean()\n",
    "print(mad_median)"
   ]
  },
  {
   "cell_type": "markdown",
   "metadata": {},
   "source": [
    "Если за предсказание взять медиану, то значение ошибки немного уменьшится. Медиана лучше отражает выборку, так как ср.арифм. смещено в сторону редких больших зарплат.\n",
    "\n",
    "#### 5. Найти слова, которые часто встречаются рядом: пары, тройки. Можно ли как-то объяснить их соседство?\n",
    "\n",
    "Продолжить знакомство с классом sklearn.feature_extraction.text.CountVectorizer, обратить внимание на параметр ngram_range."
   ]
  },
  {
   "cell_type": "code",
   "execution_count": 4,
   "metadata": {
    "collapsed": false
   },
   "outputs": [],
   "source": [
    "vectorizer = CountVectorizer(analyzer='word', stop_words='english', ngram_range=(2,3), max_features = 100, lowercase=True)\n",
    "model = vectorizer.fit(texts)\n",
    "text_model = model.transform(texts)\n",
    "text_model = text_model.toarray() "
   ]
  },
  {
   "cell_type": "code",
   "execution_count": 5,
   "metadata": {
    "collapsed": false
   },
   "outputs": [
    {
     "name": "stdout",
     "output_type": "stream",
     "text": [
      "frequent: previous experience, employment business, track record, send cv, employment agency, customer service, successful candidate, experience working, communication skills, totaljobs com, www totaljobs com, www totaljobs, posted www totaljobs, totaljobs com jobseeking, com jobseeking, originally posted www, posted www, job originally posted, job originally, originally posted\n"
     ]
    }
   ],
   "source": [
    "nums = np.sum(text_model,axis=0)\n",
    "indices = np.argsort(nums)\n",
    "words_pop = np.array(vectorizer.get_feature_names())[indices[-20:]]\n",
    "print('frequent: '+', '.join(words_pop))"
   ]
  },
  {
   "cell_type": "markdown",
   "metadata": {},
   "source": [
    "Это устойчивые словосочетания, которые часто встречаются в объявлениях. Самые частотные - это адрес сайта, упоминающегося почти в каждом объявлении, и слова, вводящие адрес сайта (job originally posted ...), которые также встречаются очень часто в объявлениях. В целом - некоторые клише объявлений.\n",
    "#### 6. Для нескольких слов постройте распределение числа их вхождений в текст. Каким известным распределением можно описать получившуюся зависимость?\n",
    "\n",
    "Некоторые слова встречаются в текстах редко. Можно попробовать строить распределение на основе только тех текстов, в которых встречается данное слово. Здесь может помочь функция numpy.nonzero()."
   ]
  },
  {
   "cell_type": "code",
   "execution_count": 6,
   "metadata": {
    "collapsed": false
   },
   "outputs": [],
   "source": [
    "#повторение части задания поиска самых частотных слов с добавленным параметром max_features.\n",
    "#так как уже не могу получить индексы из запуска кода второго задания - сервер не тянет (memory error)\n",
    "vectorizer = CountVectorizer(analyzer='word', stop_words='english', max_features = 100, lowercase=True)\n",
    "model = vectorizer.fit(texts)\n",
    "text_model = model.transform(texts)\n",
    "text_model = text_model.toarray()\n",
    "nums = np.sum(text_model,axis=0)\n",
    "indices = np.argsort(nums)"
   ]
  },
  {
   "cell_type": "code",
   "execution_count": 77,
   "metadata": {
    "collapsed": false
   },
   "outputs": [
    {
     "data": {
      "text/plain": [
       "<matplotlib.legend.Legend at 0x86ba610>"
      ]
     },
     "execution_count": 77,
     "metadata": {},
     "output_type": "execute_result"
    },
    {
     "data": {
      "image/png": "[encoded data removed]",
      "text/plain": [
       "<matplotlib.figure.Figure at 0x31ba5950>"
      ]
     },
     "metadata": {},
     "output_type": "display_data"
    }
   ],
   "source": [
    "#выбор рандомного слова из самых частотных и построение его распределения\n",
    "word_ind = random.choice(indices[-20:])\n",
    "word = np.array(vectorizer.get_feature_names())[word_ind]\n",
    "word_dist = text_model[:,word_ind]\n",
    "\n",
    "fig = plt.figure()\n",
    "ax = fig.add_axes([0, 0, 1, 1])\n",
    "ax.set_xlim([1, 15])\n",
    "pd.Series(word_dist[np.nonzero(word_dist)]).hist(bins=20,label=word) #смотрим только на тексты, где есть рассматриваемое слово (нули выкинуты)\n",
    "ax.legend()"
   ]
  },
  {
   "cell_type": "markdown",
   "metadata": {},
   "source": [
    "Зависимость можно описать распределением Пуассона."
   ]
  },
  {
   "cell_type": "markdown",
   "metadata": {},
   "source": [
    "Готовим данные:"
   ]
  },
  {
   "cell_type": "code",
   "execution_count": 14,
   "metadata": {
    "collapsed": false
   },
   "outputs": [],
   "source": [
    "texts = data['FullDescription']\n",
    "salary = data['SalaryNormalized']"
   ]
  },
  {
   "cell_type": "code",
   "execution_count": 15,
   "metadata": {
    "collapsed": false
   },
   "outputs": [],
   "source": [
    "#Разные векторизаторы для дальнейшего использования\n",
    "#граница max_features - для скорости и предотвращения проблем с памятью\n",
    "\n",
    "vectorizers = []\n",
    "names = [\"CountVectorizer\", \"TfVectorizer\", \"TfidfVectorizer\"]\n",
    "\n",
    "vectorizer_models = [\n",
    "    CountVectorizer(analyzer='word', stop_words='english', lowercase=True, max_features = 1000),\n",
    "    TfidfVectorizer(analyzer='word', stop_words='english', use_idf = False, lowercase=True, max_features = 1000),\n",
    "    TfidfVectorizer(analyzer='word', stop_words='english', lowercase=True, max_features = 1000)\n",
    "    ]\n",
    "\n",
    "for name, vect in zip(names, vectorizer_models):\n",
    "    vectorizer = vect\n",
    "    texts_count = vectorizer.fit_transform(texts)\n",
    "    texts_train, texts_test, salary_train, salary_test = train_test_split(texts_count, salary)\n",
    "    vectorizers.append((texts_train, texts_test, salary_train, salary_test,name))"
   ]
  },
  {
   "cell_type": "markdown",
   "metadata": {},
   "source": [
    "#### 7. Обучить на данных простую модель линейной регрессии.\n",
    "    - Попробовать три метода вложения текстов: CountVectorizer, tf и tf-idf.\n",
    "    - Попробовать несколько стратегий регуляризации, подобрать параметры регуляризации.\n",
    "    - Исследовать иные возможности настройки параметров этих методов.\n",
    "    - Измерить качество обученной линейной модели."
   ]
  },
  {
   "cell_type": "code",
   "execution_count": 17,
   "metadata": {
    "collapsed": false
   },
   "outputs": [
    {
     "name": "stdout",
     "output_type": "stream",
     "text": [
      "CountVectorizer -0.0936321959288 {'penalty': 'l2', 'alpha': 0.40000000000000002}\n",
      "TfVectorizer 0.125955516603 {'penalty': 'l1', 'alpha': 0.10000000000000001}\n",
      "TfidfVectorizer 0.1230870672 {'penalty': 'l2', 'alpha': 0.0}\n",
      "CountVectorizer -99.6376584266 {'l1_ratio': 0.60000000000000009}\n",
      "TfVectorizer 0.125909991131 {'l1_ratio': 0.90000000000000002}\n",
      "TfidfVectorizer 0.122581724138 {'l1_ratio': 1.0}\n"
     ]
    }
   ],
   "source": [
    "#для каждого варианта регуляризации смотрим на разные возможные регуляризации и подбираем их параметры\n",
    "\n",
    "params = {\n",
    "    'alpha': np.arange(0, 1.1, 0.1),\n",
    "    'penalty': ['l1','l2']\n",
    "}\n",
    "for sample in vectorizers:\n",
    "    grid_search = GridSearchCV(SGDRegressor(), params).fit(sample[0],sample[2])\n",
    "    print(sample[4]+' '+str(grid_search.best_score_)+' '+str(grid_search.best_params_))\n",
    "\n",
    "params = {\n",
    "    'l1_ratio': np.arange(0, 1.1, 0.1),\n",
    "}\n",
    "\n",
    "for sample in vectorizers:\n",
    "    grid_search = GridSearchCV(SGDRegressor(penalty='elasticnet'), params).fit(sample[0],sample[2])\n",
    "    print(sample[4]+' '+str(grid_search.best_score_)+' '+str(grid_search.best_params_))"
   ]
  },
  {
   "cell_type": "markdown",
   "metadata": {},
   "source": [
    "Лучше всего работает TfVectorizer (l1, alpha=0.1), а CountVecrorizer дает странные неадекватные числа при такой настройке модели.\n",
    "\n",
    "#### 8. Выбрать самые информативные признаки с помощью одной из обученных линейных моделей. Для этого достаточно найти слова, соответствующие самым большим весам регрессии. Что это за слова? Почему у них большой вес?"
   ]
  },
  {
   "cell_type": "code",
   "execution_count": 18,
   "metadata": {
    "collapsed": false
   },
   "outputs": [
    {
     "name": "stdout",
     "output_type": "stream",
     "text": [
      "['financial' 'services' 'technical' 'strong' 'work' 'leading' 'projects'\n",
      " 'team' 'london' 'senior' 'role' 'client' 'uk' 'manager' 'design'\n",
      " 'development' 'project' 'management' 'business' 'experience']\n"
     ]
    }
   ],
   "source": [
    "vectorizer=TfidfVectorizer(analyzer='word', stop_words='english', lowercase=True, use_idf = False, max_features = 1000)\n",
    "trans = vectorizer.fit_transform(texts)\n",
    "vectline = SGDRegressor(penalty='l1',alpha=0.1).fit(vectorizers[1][0],vectorizers[1][2])\n",
    "indices = np.argsort(vectline.coef_)\n",
    "words_pop = np.array(vectorizer.get_feature_names())[indices[-20:]]\n",
    "print(words_pop)"
   ]
  },
  {
   "cell_type": "markdown",
   "metadata": {},
   "source": [
    "Это слова про успешных людей, их появление сильно зависит от зарплаты.\n",
    "\n",
    "#### 9. Ввести в данные несколько дополнительных признаков объектов, которые были бы способны улучшить качество предсказания. Это может быть информация о регионе, в котором предложена вакансия, это может быть категория вакансии. Обучить линейную модель с новыми дополнительными признаками."
   ]
  },
  {
   "cell_type": "code",
   "execution_count": 19,
   "metadata": {
    "collapsed": false,
    "scrolled": true
   },
   "outputs": [],
   "source": [
    "#Добавляем признаки\n",
    "\n",
    "Xs = []\n",
    "\n",
    "vect = TfidfVectorizer(analyzer='word', stop_words='english', lowercase=True, use_idf = False, max_features = 1000)\n",
    "tmod = vect.fit_transform(texts)\n",
    "Xs.append(('Description ',tmod))\n",
    "\n",
    "city = data['LocationNormalized']\n",
    "vect = LabelEncoder()\n",
    "vect2 = OneHotEncoder()\n",
    "citmod = vect.fit_transform(city)[...,None]\n",
    "citmod = vect2.fit_transform(citmod)\n",
    "Xs.append(('Description+Location ',hstack([tmod,citmod])))\n",
    "\n",
    "cat = data['Category']\n",
    "vect = LabelEncoder()\n",
    "vect2 = OneHotEncoder()\n",
    "cmod = vect.fit_transform(cat)[...,None]\n",
    "cmod = vect2.fit_transform(cmod)\n",
    "Xs.append(('Description+Location+Category ',hstack([tmod,citmod,cmod])))\n",
    "\n",
    "cont = data['ContractType']\n",
    "cont = cont.factorize()[0]\n",
    "vect = LabelEncoder()\n",
    "vect2 = OneHotEncoder()\n",
    "contmod = vect.fit_transform(cont)[...,None]\n",
    "contmod = vect2.fit_transform(contmod)\n",
    "Xs.append(('Description+Location+Category+ContractType ',hstack([tmod,citmod,cmod,contmod])))\n",
    "\n",
    "contt = data['ContractTime']\n",
    "contt = contt.factorize()[0]\n",
    "vect = LabelEncoder()\n",
    "vect2 = OneHotEncoder()\n",
    "conttmod = vect.fit_transform(contt)[...,None]\n",
    "conttmod = vect2.fit_transform(conttmod)\n",
    "Xs.append(('Description+Location+Category+ContractType+Time ',hstack([tmod,citmod,cmod,contmod,conttmod])))\n",
    "\n",
    "s = data['SourceName']\n",
    "s = s.factorize()[0]\n",
    "vect = LabelEncoder()\n",
    "vect2 = OneHotEncoder()\n",
    "smod = vect.fit_transform(s)[...,None]\n",
    "smod = vect2.fit_transform(smod)\n",
    "Xs.append(('Description+Location+Category+ContractType+Time+Source ',hstack([tmod,citmod,cmod,contmod,conttmod,smod])))\n",
    "\n",
    "titles = data['Title']\n",
    "vect = TfidfVectorizer(analyzer='word', stop_words='english', lowercase=True, use_idf = False, max_features = 1000)\n",
    "titlemod = vect.fit_transform(titles)\n",
    "Xs.append(('Description+Location+Category+ContractType+Time+Source+Title ', \\\n",
    "           hstack([tmod,citmod,cmod,contmod,conttmod,smod,titlemod])))\n",
    "\n",
    "comp = data['Company']\n",
    "comp = comp.fillna('No information')\n",
    "vect = LabelEncoder()\n",
    "vect2 = OneHotEncoder()\n",
    "compmod = vect.fit_transform(comp)[...,None]\n",
    "compmod = vect2.fit_transform(compmod)\n",
    "Xs.append(('Description+Location+Category+ContractType+Time+Source+Title+Company ', \\\n",
    "           hstack([tmod,citmod,cmod,contmod,conttmod,smod,titlemod,compmod])))"
   ]
  },
  {
   "cell_type": "code",
   "execution_count": 21,
   "metadata": {
    "collapsed": false
   },
   "outputs": [
    {
     "name": "stdout",
     "output_type": "stream",
     "text": [
      "Description 0.162176592027\n",
      "Description+Location 0.224402979531\n",
      "Description+Location+Category 0.310905850187\n",
      "Description+Location+Category+ContractType 0.36415188815\n",
      "Description+Location+Category+ContractType+Time 0.362766389002\n",
      "Description+Location+Category+ContractType+Time+Source 0.41584579607\n",
      "Description+Location+Category+ContractType+Time+Source+Title 0.474503038704\n",
      "Description+Location+Category+ContractType+Time+Source+Title+Company 0.466324219949\n"
     ]
    }
   ],
   "source": [
    "for X in Xs:\n",
    "    texts_train, texts_test, salary_train, salary_test = train_test_split(X[1], salary)\n",
    "    vectline = SGDRegressor(penalty='l1',alpha=0.1)\n",
    "    vectline.fit(texts_train,salary_train)\n",
    "    print(X[0]+str(vectline.score(texts_test,salary_test)))"
   ]
  },
  {
   "cell_type": "markdown",
   "metadata": {},
   "source": [
    "Компания даже немного ухудшает качество, не будем ее учитывать,лучше взять Description+Location+Category+ContractType+Time+Source+Title.\n",
    "\n",
    "#### 10. Обучить на данных [случайный лес](http://scikit-learn.org/stable/modules/generated/sklearn.ensemble.RandomForestRegressor.html). \n",
    "\n",
    "    - Попробовать три метода вложения текстов: CountVectorizer, tf и tf-idf.\n",
    "    - Подобрать максимальную глубину деревьев для деревьев леса; использовать не менее 10 деревьев, их число можно также попробовать подобрать\n",
    "    - Измерить качество обученной модели.\n",
    "    \n",
    " * Для воспроизводимости результатов можно зафиксировать случайное состояние random_state, из которого начинает работу алгоритм *"
   ]
  },
  {
   "cell_type": "code",
   "execution_count": null,
   "metadata": {
    "collapsed": false
   },
   "outputs": [],
   "source": [
    "#сократили обучающую выборку, чтобы была скорость (все равно медленно) и не было проблем с памятью\n",
    "\n",
    "params = {\n",
    "    'n_estimators': np.arange(10,20),\n",
    "    'max_depth': np.arange(1,10)\n",
    "}\n",
    "\n",
    "for sample in vectorizers:\n",
    "    grid_search = GridSearchCV(RandomForestRegressor(), params).fit(sample[0][:5000],sample[2][:5000])\n",
    "    print(sample[4]+' '+str(grid_search.best_score_)+' '+str(grid_search.best_params_))"
   ]
  },
  {
   "cell_type": "markdown",
   "metadata": {},
   "source": [
    "В лесу лучше всего работает TfVectorizer. Лес работает лучше линейной регресии (но намного дольше).\n",
    "\n",
    "#### 11. Выбрать самые информативные признаки случайного леса с помощью его атрибута *feature_importances_*. Каким словам они соответствуют? Отличаются ли они от информативных признаков линейной модели?"
   ]
  },
  {
   "cell_type": "code",
   "execution_count": null,
   "metadata": {
    "collapsed": false
   },
   "outputs": [],
   "source": [
    "#indices = np.argsort(vectline.coef_)\n",
    "#words_pop = np.array(vectorizer.get_feature_names())[indices[-20:]]\n",
    "#print(words_pop)\n",
    "tree = RandomForestRegressor(n_estimators = 19, max_depth=9).fit(vectorizers[1][0],vectorizers[1][2])"
   ]
  },
  {
   "cell_type": "code",
   "execution_count": null,
   "metadata": {
    "collapsed": false
   },
   "outputs": [],
   "source": [
    "vectorizer=TfidfVectorizer(analyzer='word', stop_words='english', use_idf=False, lowercase=True, max_features = 1000)\n",
    "trans = vectorizer.fit_transform(texts)\n",
    "indices = np.argsort(tree.feature_importances_)\n",
    "words_pop = np.array(vectorizer.get_feature_names())[indices[-20:]]\n",
    "print(words_pop)"
   ]
  },
  {
   "cell_type": "markdown",
   "metadata": {},
   "source": [
    "Слова пересекаются довольно сильно с самыми информативными словами линейной модели, это те же слова, появление которых может зависеть от уровня объявления, от уровня предлагаемой зарплаты."
   ]
  },
  {
   "cell_type": "code",
   "execution_count": null,
   "metadata": {
    "collapsed": true
   },
   "outputs": [],
   "source": []
  }
 ],
 "metadata": {
  "kernelspec": {
   "display_name": "Python 3",
   "language": "python",
   "name": "python3"
  },
  "language_info": {
   "codemirror_mode": {
    "name": "ipython",
    "version": 3
   },
   "file_extension": ".py",
   "mimetype": "text/x-python",
   "name": "python",
   "nbconvert_exporter": "python",
   "pygments_lexer": "ipython3",
   "version": "3.5.1"
  }
 },
 "nbformat": 4,
 "nbformat_minor": 0
}
